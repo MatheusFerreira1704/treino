{
 "cells": [
  {
   "cell_type": "code",
   "execution_count": 1,
   "id": "3b0846cf",
   "metadata": {},
   "outputs": [],
   "source": [
    "#TREINO DE TUPLA GUANABARA"
   ]
  },
  {
   "cell_type": "code",
   "execution_count": 2,
   "id": "5c13792d",
   "metadata": {},
   "outputs": [],
   "source": [
    "lanche = ('Hamburguer', 'Suco', 'Pizza', 'Pudim')"
   ]
  },
  {
   "cell_type": "code",
   "execution_count": 3,
   "id": "b4c7bb06",
   "metadata": {},
   "outputs": [
    {
     "name": "stdout",
     "output_type": "stream",
     "text": [
      "Suco\n"
     ]
    }
   ],
   "source": [
    "print(lanche[1])"
   ]
  },
  {
   "cell_type": "code",
   "execution_count": 4,
   "id": "26457cb3",
   "metadata": {},
   "outputs": [
    {
     "name": "stdout",
     "output_type": "stream",
     "text": [
      "Suco\n"
     ]
    }
   ],
   "source": [
    "print(lanche[-3])"
   ]
  },
  {
   "cell_type": "code",
   "execution_count": 5,
   "id": "cee04386",
   "metadata": {},
   "outputs": [
    {
     "name": "stdout",
     "output_type": "stream",
     "text": [
      "('Pudim',)\n"
     ]
    }
   ],
   "source": [
    "print(lanche[-1:])"
   ]
  },
  {
   "cell_type": "code",
   "execution_count": 6,
   "id": "3a77675d",
   "metadata": {},
   "outputs": [
    {
     "name": "stdout",
     "output_type": "stream",
     "text": [
      "('Hamburguer', 'Suco', 'Pizza')\n"
     ]
    }
   ],
   "source": [
    "print(lanche[:-1])"
   ]
  },
  {
   "cell_type": "code",
   "execution_count": 7,
   "id": "ea56cf78",
   "metadata": {},
   "outputs": [
    {
     "data": {
      "text/plain": [
       "4"
      ]
     },
     "execution_count": 7,
     "metadata": {},
     "output_type": "execute_result"
    }
   ],
   "source": [
    "len(lanche)"
   ]
  },
  {
   "cell_type": "code",
   "execution_count": 8,
   "id": "58dd7a89",
   "metadata": {},
   "outputs": [
    {
     "name": "stdout",
     "output_type": "stream",
     "text": [
      "Hamburguer\n",
      "Suco\n",
      "Pizza\n",
      "Pudim\n"
     ]
    }
   ],
   "source": [
    "#interação para acessar elementos da tupla lanche\n",
    "for comida in lanche:\n",
    "    print(comida)"
   ]
  },
  {
   "cell_type": "code",
   "execution_count": 9,
   "id": "98d828f0",
   "metadata": {},
   "outputs": [
    {
     "name": "stdout",
     "output_type": "stream",
     "text": [
      "0\n",
      "1\n",
      "2\n",
      "3\n",
      "Hamburguer\n",
      "Suco\n",
      "Pizza\n",
      "Pudim\n"
     ]
    }
   ],
   "source": [
    "#interacao de outra maneira OBS: len ignora o ultimo valor\n",
    "\n",
    "#acessando o index do lanche\n",
    "for cont_comida in range(0, len(lanche)):\n",
    "    print(cont_comida)\n",
    "\n",
    "#acessando o elemento pelo indiex\n",
    "for cont_comida in range(0, len(lanche)):\n",
    "    print(lanche[cont_comida])"
   ]
  },
  {
   "cell_type": "code",
   "execution_count": 10,
   "id": "0ddfef3e",
   "metadata": {},
   "outputs": [
    {
     "name": "stdout",
     "output_type": "stream",
     "text": [
      "Vou começar comendo 1ª , Hamburguer.\n",
      "Vou começar comendo 2ª , Suco.\n",
      "Vou começar comendo 3ª , Pizza.\n",
      "Vou começar comendo 4ª , Pudim.\n"
     ]
    }
   ],
   "source": [
    "#metodo enumerate, acessa o index e o elemento com menos linhas de código que o range\n",
    "for posicao, comida in enumerate(lanche):\n",
    "    print(f'Vou começar comendo {posicao + 1}ª , {comida}.')\n"
   ]
  },
  {
   "cell_type": "code",
   "execution_count": 11,
   "id": "1f6088f7",
   "metadata": {},
   "outputs": [
    {
     "name": "stdout",
     "output_type": "stream",
     "text": [
      "['Hamburguer', 'Pizza', 'Pudim', 'Suco']\n"
     ]
    }
   ],
   "source": [
    "#metodo SORTED, mostra a variavel composta em ordem crescente\n",
    "print(sorted(lanche))"
   ]
  },
  {
   "cell_type": "code",
   "execution_count": 12,
   "id": "c8873763",
   "metadata": {},
   "outputs": [
    {
     "name": "stdout",
     "output_type": "stream",
     "text": [
      "['Pudim', 'Pizza', 'Suco', 'Hamburguer']\n"
     ]
    }
   ],
   "source": [
    "#mostrando em ordem decrecente, porém é necessário transformar em list, pq o resultado é um objeto\n",
    "print(list(reversed(lanche)))"
   ]
  },
  {
   "cell_type": "code",
   "execution_count": 20,
   "id": "d0c02a32",
   "metadata": {},
   "outputs": [
    {
     "name": "stdout",
     "output_type": "stream",
     "text": [
      "(2, 5, 4, 5, 8, 1, 2)\n",
      "(5, 8, 1, 2, 2, 5, 4)\n",
      "1\n"
     ]
    }
   ],
   "source": [
    "a = (2, 5, 4)\n",
    "b = (5, 8, 1, 2)\n",
    "c = a + b\n",
    "c1 = b + a\n",
    "\n",
    "print(c)\n",
    "print(c1)\n",
    "\n",
    "print(c.count(8))"
   ]
  },
  {
   "cell_type": "code",
   "execution_count": 18,
   "id": "b9d65fed",
   "metadata": {},
   "outputs": [
    {
     "ename": "TypeError",
     "evalue": "can't multiply sequence by non-int of type 'tuple'",
     "output_type": "error",
     "traceback": [
      "\u001b[0;31m---------------------------------------------------------------------------\u001b[0m",
      "\u001b[0;31mTypeError\u001b[0m                                 Traceback (most recent call last)",
      "Input \u001b[0;32mIn [18]\u001b[0m, in \u001b[0;36m<cell line: 1>\u001b[0;34m()\u001b[0m\n\u001b[0;32m----> 1\u001b[0m c \u001b[38;5;241m=\u001b[39m \u001b[43mb\u001b[49m\u001b[43m \u001b[49m\u001b[38;5;241;43m*\u001b[39;49m\u001b[43m \u001b[49m\u001b[43ma\u001b[49m\n\u001b[1;32m      2\u001b[0m \u001b[38;5;28mprint\u001b[39m(c)\n",
      "\u001b[0;31mTypeError\u001b[0m: can't multiply sequence by non-int of type 'tuple'"
     ]
    }
   ],
   "source": []
  }
 ],
 "metadata": {
  "kernelspec": {
   "display_name": "Python 3 (ipykernel)",
   "language": "python",
   "name": "python3"
  },
  "language_info": {
   "codemirror_mode": {
    "name": "ipython",
    "version": 3
   },
   "file_extension": ".py",
   "mimetype": "text/x-python",
   "name": "python",
   "nbconvert_exporter": "python",
   "pygments_lexer": "ipython3",
   "version": "3.9.13"
  }
 },
 "nbformat": 4,
 "nbformat_minor": 5
}
