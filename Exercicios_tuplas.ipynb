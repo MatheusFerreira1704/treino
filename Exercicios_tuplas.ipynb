{
 "cells": [
  {
   "cell_type": "markdown",
   "id": "6ae06a32",
   "metadata": {},
   "source": [
    "Criar um programa que tenha uma tupla totalmente preenchida com uma contagem por extenso, de zero até vinte. Seu programa deverá ler um numero pelo teclado entra 0 e 20 e mostra-lo por extenso."
   ]
  },
  {
   "cell_type": "code",
   "execution_count": null,
   "id": "1501c963",
   "metadata": {},
   "outputs": [],
   "source": [
    "tupla = ('zero','um', 'dois', 'três', 'quatro', 'cinco', 'seis', 'sete', 'oito', 'nove', 'dez', 'onze', 'doze',\n",
    "        'treze', 'cartoze', 'quinze', 'deseseis', 'desessete', 'dezoito','dezenove', 'vinte')"
   ]
  },
  {
   "cell_type": "code",
   "execution_count": null,
   "id": "da315147",
   "metadata": {},
   "outputs": [],
   "source": [
    "numero = int(input('Digite um número de 0 a 20: '))\n",
    "while numero < 0 or numero > 20:\n",
    "    numero = int(input('Digite um número de 0 a 20: '))\n",
    "\n",
    "print(tupla[numero])"
   ]
  },
  {
   "cell_type": "markdown",
   "id": "6dc7d64f",
   "metadata": {},
   "source": [
    "Crie uma tupla preenchida com os 20 primeiros colocados da tabela do campeonato brasileiro de futebol, na ordem de colocação. Depois mostre? 1) Apenas os 5 primeiros colocados 2) Os últimos 4 colocados da tabela 3) Uma lista com os times em ordem alfabética 4)Em que posição na tabela está o time da chapecoense"
   ]
  },
  {
   "cell_type": "code",
   "execution_count": null,
   "id": "bbe35440",
   "metadata": {},
   "outputs": [],
   "source": [
    "time = ('Palmeiras', 'Fluminense', 'Flamengo', 'Corinthias', 'Internacional', 'Athletico-PR', 'Atlético-MG',\n",
    "'Santos', 'América-MG', 'Bragantino', 'Goiás', 'São Paulo', 'Fortaleza', 'Botafogo', 'Cuiabá', 'Avái', 'Coritiba', 'Atlético-GO', 'Juventude')"
   ]
  },
  {
   "cell_type": "markdown",
   "id": "d35687c8",
   "metadata": {},
   "source": [
    "1) Apenas os 5 primeiros colocados"
   ]
  },
  {
   "cell_type": "code",
   "execution_count": null,
   "id": "9ccbb41a",
   "metadata": {},
   "outputs": [],
   "source": [
    "print(time[:5])"
   ]
  },
  {
   "cell_type": "markdown",
   "id": "d12a635d",
   "metadata": {},
   "source": [
    "2) Os últimos 4 colocados da tabela"
   ]
  },
  {
   "cell_type": "code",
   "execution_count": null,
   "id": "dc425626",
   "metadata": {},
   "outputs": [],
   "source": [
    "print(time[15:])"
   ]
  },
  {
   "cell_type": "markdown",
   "id": "a280edb7",
   "metadata": {},
   "source": [
    "3) Uma lista com os times em ordem alfabética"
   ]
  },
  {
   "cell_type": "code",
   "execution_count": null,
   "id": "5fdaa16d",
   "metadata": {},
   "outputs": [],
   "source": [
    "print(sorted(time))"
   ]
  },
  {
   "cell_type": "markdown",
   "id": "4813899c",
   "metadata": {},
   "source": [
    "4)Em que posição na tabela está o time da Internacional"
   ]
  },
  {
   "cell_type": "code",
   "execution_count": null,
   "id": "6d0bce25",
   "metadata": {},
   "outputs": [],
   "source": [
    "posicao = time.index('Internacional') + 1\n",
    "\n",
    "print(f'O Internacional está na {posicao}ª posição' )"
   ]
  },
  {
   "cell_type": "markdown",
   "id": "bdb9cc84",
   "metadata": {},
   "source": [
    "Crie um programa que vai gerar cinco número aleatórios e colocar em uma tupla. Depois disso, mostre a listagem de números gerados e também indique o menor e o maior valor que estão na tupla."
   ]
  },
  {
   "cell_type": "code",
   "execution_count": null,
   "id": "e9fc6f4d",
   "metadata": {},
   "outputs": [],
   "source": [
    "import random"
   ]
  },
  {
   "cell_type": "code",
   "execution_count": null,
   "id": "e1c8ec5b",
   "metadata": {},
   "outputs": [],
   "source": [
    "a = random.randint(1, 100)\n",
    "b = random.randint(1, 100)\n",
    "c = random.randint(1, 100)\n",
    "d = random.randint(1, 100)\n",
    "e = random.randint(1, 100)\n",
    "\n",
    "tupla_alea = (a, b, c, d, e)\n",
    "\n",
    "print(f'Os numeros soteados foram: {tupla_alea}')\n",
    "\n",
    "print(f'O maior valor foi: {max(tupla_alea)}')\n",
    "\n",
    "print(f'O menor valor foi: {min(tupla_alea)}')"
   ]
  },
  {
   "cell_type": "markdown",
   "id": "538fdac5",
   "metadata": {},
   "source": [
    "Desenvolva um programa que leia 4 valores pelo teclado, guarde-os em uma tupla, no final mostre: 1) Quantas vezes apareceu o valor 9. 2)Em que posição foi digitado o primeiro valor 3 3) quantos foram os números pares."
   ]
  },
  {
   "cell_type": "code",
   "execution_count": null,
   "id": "83810bd2",
   "metadata": {},
   "outputs": [],
   "source": [
    "valor_1 = int(input('Digite um número: '))\n",
    "valor_2 = int(input('Digite outro número: '))\n",
    "valor_3 = int(input('Digite mais número: '))\n",
    "valor_4 = int(input('Digite o último número: '))\n",
    "\n",
    "\n",
    "tupla_numeros = (valor_1, valor_2, valor_3, valor_4)\n",
    "\n",
    "print(f'o numero 9 apareceu {tupla_numeros.count(9)} vezes.')\n",
    "try:\n",
    "    print(f'o numero 3 apareceu foi encontrado na posição {tupla_numeros.index(3)}.')\n",
    "except:\n",
    "    print('O numero 3 não foi digitado em nenhuma posição.')\n",
    "    \n",
    "for x in tupla_numeros:\n",
    "    if (x % 2 == 0):\n",
    "        print(f'Os numero pares foram: {x}')\n",
    "    \n",
    "\n",
    "\n",
    "#print(f'O valor 3 foi digitado')"
   ]
  },
  {
   "cell_type": "markdown",
   "id": "062a6f7f",
   "metadata": {},
   "source": [
    "Crie um programa que tenha uma tupla única com nomes de produtos e seus respectivos preços na sequência. No final, mostre uma listagem de preços organizando os dados em forma tabular.        "
   ]
  },
  {
   "cell_type": "code",
   "execution_count": null,
   "id": "327e6656",
   "metadata": {},
   "outputs": [],
   "source": [
    "produtos = ('SSD', 70, 'HD', 250, 'Memória', 320, 'Monitor', 650)"
   ]
  },
  {
   "cell_type": "code",
   "execution_count": null,
   "id": "76a30f01",
   "metadata": {},
   "outputs": [],
   "source": [
    "print('--------------------------------------------------------------------------')\n",
    "print('------------------------------PRODUTOS------------------------------------')\n",
    "print('--------------------------------------------------------------------------')\n",
    "print(f'Produto:{produtos[0]}......................................................... R$ {produtos[1]}')\n",
    "print(f'Produto:{produtos[2]}.......................................................... R$ {produtos[3]}')\n",
    "print(f'Produto:{produtos[4]}..................................................... R$ {produtos[5]}')\n",
    "print(f'Produto:{produtos[6]}..................................................... R$ {produtos[7]}')"
   ]
  },
  {
   "cell_type": "markdown",
   "id": "5a270577",
   "metadata": {},
   "source": [
    "Crie um programa que tenha uma tupla com várias palavras ( não usar acentos). Depois disso, você deve mostrar, para cada palavra quais são as suas vogais."
   ]
  },
  {
   "cell_type": "code",
   "execution_count": 2,
   "id": "c6ac2dbd",
   "metadata": {},
   "outputs": [],
   "source": [
    "palavras = ('Todo','texto','tem','que','ter','alguns','aspectos','formais','seja', \n",
    "            'ter','estrutura', 'elementos','estabelecer','relação', 'entre','Dentro','aspectos','formais',\n",
    "            'temos')"
   ]
  },
  {
   "cell_type": "code",
   "execution_count": 25,
   "id": "3c7ac480",
   "metadata": {},
   "outputs": [],
   "source": [
    "vogais = ('a', 'e', 'i', 'o', 'u')"
   ]
  },
  {
   "cell_type": "code",
   "execution_count": null,
   "id": "8e53d42d",
   "metadata": {},
   "outputs": [],
   "source": []
  },
  {
   "cell_type": "code",
   "execution_count": null,
   "id": "8f9a45d7",
   "metadata": {},
   "outputs": [],
   "source": []
  },
  {
   "cell_type": "code",
   "execution_count": 39,
   "id": "7de6e95b",
   "metadata": {},
   "outputs": [
    {
     "name": "stdout",
     "output_type": "stream",
     "text": [
      "Na palavra TODO temos as vogais O.\n",
      "Na palavra TEXTO temos as vogais E.\n",
      "Na palavra TEXTO temos as vogais O.\n",
      "Na palavra TEM temos as vogais E.\n",
      "Na palavra QUE temos as vogais E.\n",
      "Na palavra QUE temos as vogais U.\n",
      "Na palavra TER temos as vogais E.\n",
      "Na palavra ALGUNS temos as vogais A.\n",
      "Na palavra ALGUNS temos as vogais U.\n",
      "Na palavra ASPECTOS temos as vogais A.\n",
      "Na palavra ASPECTOS temos as vogais E.\n",
      "Na palavra ASPECTOS temos as vogais O.\n",
      "Na palavra FORMAIS temos as vogais A.\n",
      "Na palavra FORMAIS temos as vogais I.\n",
      "Na palavra FORMAIS temos as vogais O.\n",
      "Na palavra SEJA temos as vogais A.\n",
      "Na palavra SEJA temos as vogais E.\n",
      "Na palavra TER temos as vogais E.\n",
      "Na palavra ESTRUTURA temos as vogais A.\n",
      "Na palavra ESTRUTURA temos as vogais E.\n",
      "Na palavra ESTRUTURA temos as vogais U.\n",
      "Na palavra ELEMENTOS temos as vogais E.\n",
      "Na palavra ELEMENTOS temos as vogais O.\n",
      "Na palavra ESTABELECER temos as vogais A.\n",
      "Na palavra ESTABELECER temos as vogais E.\n",
      "Na palavra RELAÇÃO temos as vogais A.\n",
      "Na palavra RELAÇÃO temos as vogais E.\n",
      "Na palavra RELAÇÃO temos as vogais O.\n",
      "Na palavra ENTRE temos as vogais E.\n",
      "Na palavra DENTRO temos as vogais E.\n",
      "Na palavra DENTRO temos as vogais O.\n",
      "Na palavra ASPECTOS temos as vogais A.\n",
      "Na palavra ASPECTOS temos as vogais E.\n",
      "Na palavra ASPECTOS temos as vogais O.\n",
      "Na palavra FORMAIS temos as vogais A.\n",
      "Na palavra FORMAIS temos as vogais I.\n",
      "Na palavra FORMAIS temos as vogais O.\n",
      "Na palavra TEMOS temos as vogais E.\n",
      "Na palavra TEMOS temos as vogais O.\n"
     ]
    }
   ],
   "source": [
    "for palavra in palavras:\n",
    "    for vogal in vogais:\n",
    "        if vogal in palavra:\n",
    "            print(f'Na palavra {palavra.upper()} temos as vogais {vogal.upper()}.')\n",
    "        \n"
   ]
  },
  {
   "cell_type": "code",
   "execution_count": 14,
   "id": "34495aff",
   "metadata": {},
   "outputs": [
    {
     "data": {
      "text/plain": [
       "['__add__',\n",
       " '__class__',\n",
       " '__class_getitem__',\n",
       " '__contains__',\n",
       " '__delattr__',\n",
       " '__dir__',\n",
       " '__doc__',\n",
       " '__eq__',\n",
       " '__format__',\n",
       " '__ge__',\n",
       " '__getattribute__',\n",
       " '__getitem__',\n",
       " '__getnewargs__',\n",
       " '__gt__',\n",
       " '__hash__',\n",
       " '__init__',\n",
       " '__init_subclass__',\n",
       " '__iter__',\n",
       " '__le__',\n",
       " '__len__',\n",
       " '__lt__',\n",
       " '__mul__',\n",
       " '__ne__',\n",
       " '__new__',\n",
       " '__reduce__',\n",
       " '__reduce_ex__',\n",
       " '__repr__',\n",
       " '__rmul__',\n",
       " '__setattr__',\n",
       " '__sizeof__',\n",
       " '__str__',\n",
       " '__subclasshook__',\n",
       " 'count',\n",
       " 'index']"
      ]
     },
     "execution_count": 14,
     "metadata": {},
     "output_type": "execute_result"
    }
   ],
   "source": [
    "dir(palavras)\n"
   ]
  },
  {
   "cell_type": "code",
   "execution_count": null,
   "id": "85ed0c26",
   "metadata": {},
   "outputs": [],
   "source": []
  }
 ],
 "metadata": {
  "kernelspec": {
   "display_name": "Python 3 (ipykernel)",
   "language": "python",
   "name": "python3"
  },
  "language_info": {
   "codemirror_mode": {
    "name": "ipython",
    "version": 3
   },
   "file_extension": ".py",
   "mimetype": "text/x-python",
   "name": "python",
   "nbconvert_exporter": "python",
   "pygments_lexer": "ipython3",
   "version": "3.9.13"
  }
 },
 "nbformat": 4,
 "nbformat_minor": 5
}
